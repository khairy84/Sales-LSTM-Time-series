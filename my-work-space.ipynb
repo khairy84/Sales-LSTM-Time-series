{
 "cells": [
  {
   "cell_type": "code",
   "execution_count": 1,
   "metadata": {
    "_cell_guid": "b1076dfc-b9ad-4769-8c92-a6c4dae69d19",
    "_uuid": "8f2839f25d086af736a60e9eeb907d3b93b6e0e5",
    "execution": {
     "iopub.execute_input": "2022-03-26T14:35:00.490425Z",
     "iopub.status.busy": "2022-03-26T14:35:00.489996Z",
     "iopub.status.idle": "2022-03-26T14:35:00.497312Z",
     "shell.execute_reply": "2022-03-26T14:35:00.496120Z",
     "shell.execute_reply.started": "2022-03-26T14:35:00.490381Z"
    }
   },
   "outputs": [],
   "source": [
    "import pandas as pd\n",
    "import numpy as np \n",
    "import matplotlib.pyplot as plt\n",
    "import seaborn as sns\n",
    "import warnings\n",
    "from datetime import datetime\n",
    "from datetime import timedelta\n",
    "from dateutil.relativedelta import relativedelta\n",
    "from IPython.display import display\n",
    "import os"
   ]
  },
  {
   "cell_type": "code",
   "execution_count": 2,
   "metadata": {
    "execution": {
     "iopub.execute_input": "2022-03-26T14:35:00.549216Z",
     "iopub.status.busy": "2022-03-26T14:35:00.548142Z",
     "iopub.status.idle": "2022-03-26T14:35:02.704758Z",
     "shell.execute_reply": "2022-03-26T14:35:02.703475Z",
     "shell.execute_reply.started": "2022-03-26T14:35:00.549138Z"
    }
   },
   "outputs": [],
   "source": [
    "cat = pd.read_csv('item_categories.csv')\n",
    "items = pd.read_csv('items.csv')\n",
    "train = pd.read_csv('sales_train.csv')\n",
    "sample_sub = pd.read_csv('sample_submission.csv')\n",
    "shops = pd.read_csv('shops.csv')\n",
    "test = pd.read_csv('test.csv')"
   ]
  },
  {
   "cell_type": "code",
   "execution_count": 3,
   "metadata": {
    "execution": {
     "iopub.execute_input": "2022-03-26T14:35:02.706849Z",
     "iopub.status.busy": "2022-03-26T14:35:02.706563Z",
     "iopub.status.idle": "2022-03-26T14:35:02.726671Z",
     "shell.execute_reply": "2022-03-26T14:35:02.725748Z",
     "shell.execute_reply.started": "2022-03-26T14:35:02.706816Z"
    }
   },
   "outputs": [
    {
     "data": {
      "text/html": [
       "<div>\n",
       "<style scoped>\n",
       "    .dataframe tbody tr th:only-of-type {\n",
       "        vertical-align: middle;\n",
       "    }\n",
       "\n",
       "    .dataframe tbody tr th {\n",
       "        vertical-align: top;\n",
       "    }\n",
       "\n",
       "    .dataframe thead th {\n",
       "        text-align: right;\n",
       "    }\n",
       "</style>\n",
       "<table border=\"1\" class=\"dataframe\">\n",
       "  <thead>\n",
       "    <tr style=\"text-align: right;\">\n",
       "      <th></th>\n",
       "      <th>ID</th>\n",
       "      <th>shop_id</th>\n",
       "      <th>item_id</th>\n",
       "    </tr>\n",
       "  </thead>\n",
       "  <tbody>\n",
       "    <tr>\n",
       "      <th>0</th>\n",
       "      <td>0</td>\n",
       "      <td>5</td>\n",
       "      <td>5037</td>\n",
       "    </tr>\n",
       "    <tr>\n",
       "      <th>1</th>\n",
       "      <td>1</td>\n",
       "      <td>5</td>\n",
       "      <td>5320</td>\n",
       "    </tr>\n",
       "    <tr>\n",
       "      <th>2</th>\n",
       "      <td>2</td>\n",
       "      <td>5</td>\n",
       "      <td>5233</td>\n",
       "    </tr>\n",
       "    <tr>\n",
       "      <th>3</th>\n",
       "      <td>3</td>\n",
       "      <td>5</td>\n",
       "      <td>5232</td>\n",
       "    </tr>\n",
       "    <tr>\n",
       "      <th>4</th>\n",
       "      <td>4</td>\n",
       "      <td>5</td>\n",
       "      <td>5268</td>\n",
       "    </tr>\n",
       "  </tbody>\n",
       "</table>\n",
       "</div>"
      ],
      "text/plain": [
       "   ID  shop_id  item_id\n",
       "0   0        5     5037\n",
       "1   1        5     5320\n",
       "2   2        5     5233\n",
       "3   3        5     5232\n",
       "4   4        5     5268"
      ]
     },
     "execution_count": 3,
     "metadata": {},
     "output_type": "execute_result"
    }
   ],
   "source": [
    "test.head()"
   ]
  },
  {
   "cell_type": "code",
   "execution_count": 4,
   "metadata": {
    "execution": {
     "iopub.execute_input": "2022-03-26T14:35:02.728623Z",
     "iopub.status.busy": "2022-03-26T14:35:02.728042Z",
     "iopub.status.idle": "2022-03-26T14:35:02.739021Z",
     "shell.execute_reply": "2022-03-26T14:35:02.738267Z",
     "shell.execute_reply.started": "2022-03-26T14:35:02.728582Z"
    }
   },
   "outputs": [
    {
     "data": {
      "text/html": [
       "<div>\n",
       "<style scoped>\n",
       "    .dataframe tbody tr th:only-of-type {\n",
       "        vertical-align: middle;\n",
       "    }\n",
       "\n",
       "    .dataframe tbody tr th {\n",
       "        vertical-align: top;\n",
       "    }\n",
       "\n",
       "    .dataframe thead th {\n",
       "        text-align: right;\n",
       "    }\n",
       "</style>\n",
       "<table border=\"1\" class=\"dataframe\">\n",
       "  <thead>\n",
       "    <tr style=\"text-align: right;\">\n",
       "      <th></th>\n",
       "      <th>shop_name</th>\n",
       "      <th>shop_id</th>\n",
       "    </tr>\n",
       "  </thead>\n",
       "  <tbody>\n",
       "    <tr>\n",
       "      <th>0</th>\n",
       "      <td>!Якутск Орджоникидзе, 56 фран</td>\n",
       "      <td>0</td>\n",
       "    </tr>\n",
       "    <tr>\n",
       "      <th>1</th>\n",
       "      <td>!Якутск ТЦ \"Центральный\" фран</td>\n",
       "      <td>1</td>\n",
       "    </tr>\n",
       "    <tr>\n",
       "      <th>2</th>\n",
       "      <td>Адыгея ТЦ \"Мега\"</td>\n",
       "      <td>2</td>\n",
       "    </tr>\n",
       "    <tr>\n",
       "      <th>3</th>\n",
       "      <td>Балашиха ТРК \"Октябрь-Киномир\"</td>\n",
       "      <td>3</td>\n",
       "    </tr>\n",
       "    <tr>\n",
       "      <th>4</th>\n",
       "      <td>Волжский ТЦ \"Волга Молл\"</td>\n",
       "      <td>4</td>\n",
       "    </tr>\n",
       "  </tbody>\n",
       "</table>\n",
       "</div>"
      ],
      "text/plain": [
       "                        shop_name  shop_id\n",
       "0   !Якутск Орджоникидзе, 56 фран        0\n",
       "1   !Якутск ТЦ \"Центральный\" фран        1\n",
       "2                Адыгея ТЦ \"Мега\"        2\n",
       "3  Балашиха ТРК \"Октябрь-Киномир\"        3\n",
       "4        Волжский ТЦ \"Волга Молл\"        4"
      ]
     },
     "execution_count": 4,
     "metadata": {},
     "output_type": "execute_result"
    }
   ],
   "source": [
    "shops.head()"
   ]
  },
  {
   "cell_type": "code",
   "execution_count": 5,
   "metadata": {
    "execution": {
     "iopub.execute_input": "2022-03-26T14:35:02.741936Z",
     "iopub.status.busy": "2022-03-26T14:35:02.741098Z",
     "iopub.status.idle": "2022-03-26T14:35:02.756936Z",
     "shell.execute_reply": "2022-03-26T14:35:02.756229Z",
     "shell.execute_reply.started": "2022-03-26T14:35:02.741882Z"
    }
   },
   "outputs": [
    {
     "data": {
      "text/html": [
       "<div>\n",
       "<style scoped>\n",
       "    .dataframe tbody tr th:only-of-type {\n",
       "        vertical-align: middle;\n",
       "    }\n",
       "\n",
       "    .dataframe tbody tr th {\n",
       "        vertical-align: top;\n",
       "    }\n",
       "\n",
       "    .dataframe thead th {\n",
       "        text-align: right;\n",
       "    }\n",
       "</style>\n",
       "<table border=\"1\" class=\"dataframe\">\n",
       "  <thead>\n",
       "    <tr style=\"text-align: right;\">\n",
       "      <th></th>\n",
       "      <th>ID</th>\n",
       "      <th>item_cnt_month</th>\n",
       "    </tr>\n",
       "  </thead>\n",
       "  <tbody>\n",
       "    <tr>\n",
       "      <th>0</th>\n",
       "      <td>0</td>\n",
       "      <td>0.5</td>\n",
       "    </tr>\n",
       "    <tr>\n",
       "      <th>1</th>\n",
       "      <td>1</td>\n",
       "      <td>0.5</td>\n",
       "    </tr>\n",
       "    <tr>\n",
       "      <th>2</th>\n",
       "      <td>2</td>\n",
       "      <td>0.5</td>\n",
       "    </tr>\n",
       "    <tr>\n",
       "      <th>3</th>\n",
       "      <td>3</td>\n",
       "      <td>0.5</td>\n",
       "    </tr>\n",
       "    <tr>\n",
       "      <th>4</th>\n",
       "      <td>4</td>\n",
       "      <td>0.5</td>\n",
       "    </tr>\n",
       "  </tbody>\n",
       "</table>\n",
       "</div>"
      ],
      "text/plain": [
       "   ID  item_cnt_month\n",
       "0   0             0.5\n",
       "1   1             0.5\n",
       "2   2             0.5\n",
       "3   3             0.5\n",
       "4   4             0.5"
      ]
     },
     "execution_count": 5,
     "metadata": {},
     "output_type": "execute_result"
    }
   ],
   "source": [
    "sample_sub.head()"
   ]
  },
  {
   "cell_type": "code",
   "execution_count": 6,
   "metadata": {
    "execution": {
     "iopub.execute_input": "2022-03-26T14:35:02.759005Z",
     "iopub.status.busy": "2022-03-26T14:35:02.758646Z",
     "iopub.status.idle": "2022-03-26T14:35:02.775400Z",
     "shell.execute_reply": "2022-03-26T14:35:02.774539Z",
     "shell.execute_reply.started": "2022-03-26T14:35:02.758969Z"
    }
   },
   "outputs": [
    {
     "data": {
      "text/html": [
       "<div>\n",
       "<style scoped>\n",
       "    .dataframe tbody tr th:only-of-type {\n",
       "        vertical-align: middle;\n",
       "    }\n",
       "\n",
       "    .dataframe tbody tr th {\n",
       "        vertical-align: top;\n",
       "    }\n",
       "\n",
       "    .dataframe thead th {\n",
       "        text-align: right;\n",
       "    }\n",
       "</style>\n",
       "<table border=\"1\" class=\"dataframe\">\n",
       "  <thead>\n",
       "    <tr style=\"text-align: right;\">\n",
       "      <th></th>\n",
       "      <th>item_name</th>\n",
       "      <th>item_id</th>\n",
       "      <th>item_category_id</th>\n",
       "    </tr>\n",
       "  </thead>\n",
       "  <tbody>\n",
       "    <tr>\n",
       "      <th>0</th>\n",
       "      <td>! ВО ВЛАСТИ НАВАЖДЕНИЯ (ПЛАСТ.)         D</td>\n",
       "      <td>0</td>\n",
       "      <td>40</td>\n",
       "    </tr>\n",
       "    <tr>\n",
       "      <th>1</th>\n",
       "      <td>!ABBYY FineReader 12 Professional Edition Full...</td>\n",
       "      <td>1</td>\n",
       "      <td>76</td>\n",
       "    </tr>\n",
       "    <tr>\n",
       "      <th>2</th>\n",
       "      <td>***В ЛУЧАХ СЛАВЫ   (UNV)                    D</td>\n",
       "      <td>2</td>\n",
       "      <td>40</td>\n",
       "    </tr>\n",
       "    <tr>\n",
       "      <th>3</th>\n",
       "      <td>***ГОЛУБАЯ ВОЛНА  (Univ)                      D</td>\n",
       "      <td>3</td>\n",
       "      <td>40</td>\n",
       "    </tr>\n",
       "    <tr>\n",
       "      <th>4</th>\n",
       "      <td>***КОРОБКА (СТЕКЛО)                       D</td>\n",
       "      <td>4</td>\n",
       "      <td>40</td>\n",
       "    </tr>\n",
       "  </tbody>\n",
       "</table>\n",
       "</div>"
      ],
      "text/plain": [
       "                                           item_name  item_id  \\\n",
       "0          ! ВО ВЛАСТИ НАВАЖДЕНИЯ (ПЛАСТ.)         D        0   \n",
       "1  !ABBYY FineReader 12 Professional Edition Full...        1   \n",
       "2      ***В ЛУЧАХ СЛАВЫ   (UNV)                    D        2   \n",
       "3    ***ГОЛУБАЯ ВОЛНА  (Univ)                      D        3   \n",
       "4        ***КОРОБКА (СТЕКЛО)                       D        4   \n",
       "\n",
       "   item_category_id  \n",
       "0                40  \n",
       "1                76  \n",
       "2                40  \n",
       "3                40  \n",
       "4                40  "
      ]
     },
     "execution_count": 6,
     "metadata": {},
     "output_type": "execute_result"
    }
   ],
   "source": [
    "items.head()"
   ]
  },
  {
   "cell_type": "code",
   "execution_count": 7,
   "metadata": {
    "execution": {
     "iopub.execute_input": "2022-03-26T14:35:02.777268Z",
     "iopub.status.busy": "2022-03-26T14:35:02.776770Z",
     "iopub.status.idle": "2022-03-26T14:35:02.789320Z",
     "shell.execute_reply": "2022-03-26T14:35:02.788379Z",
     "shell.execute_reply.started": "2022-03-26T14:35:02.777231Z"
    }
   },
   "outputs": [
    {
     "data": {
      "text/plain": [
       "array([40, 76, 55, 19, 30, 23, 37, 41, 57, 43, 78, 54, 49, 44, 45, 77, 73,\n",
       "       31, 75, 58, 56, 38, 67, 59, 60, 74, 21, 28, 20, 24, 29, 70, 22, 32,\n",
       "       62, 25, 72,  4, 63, 27, 18, 26, 64, 15, 68,  0,  2,  5,  1,  3,  6,\n",
       "       35, 65, 14, 13, 10, 11, 12, 48, 71, 69,  7, 33, 34, 16, 66, 39, 52,\n",
       "       46, 42, 61,  8, 80,  9, 17, 36, 47, 82, 81, 50, 51, 79, 53, 83],\n",
       "      dtype=int64)"
      ]
     },
     "execution_count": 7,
     "metadata": {},
     "output_type": "execute_result"
    }
   ],
   "source": [
    "items.item_category_id.unique()"
   ]
  },
  {
   "cell_type": "code",
   "execution_count": 8,
   "metadata": {
    "execution": {
     "iopub.execute_input": "2022-03-26T14:35:02.790934Z",
     "iopub.status.busy": "2022-03-26T14:35:02.790693Z",
     "iopub.status.idle": "2022-03-26T14:35:02.810682Z",
     "shell.execute_reply": "2022-03-26T14:35:02.809573Z",
     "shell.execute_reply.started": "2022-03-26T14:35:02.790904Z"
    }
   },
   "outputs": [
    {
     "data": {
      "text/html": [
       "<div>\n",
       "<style scoped>\n",
       "    .dataframe tbody tr th:only-of-type {\n",
       "        vertical-align: middle;\n",
       "    }\n",
       "\n",
       "    .dataframe tbody tr th {\n",
       "        vertical-align: top;\n",
       "    }\n",
       "\n",
       "    .dataframe thead th {\n",
       "        text-align: right;\n",
       "    }\n",
       "</style>\n",
       "<table border=\"1\" class=\"dataframe\">\n",
       "  <thead>\n",
       "    <tr style=\"text-align: right;\">\n",
       "      <th></th>\n",
       "      <th>date</th>\n",
       "      <th>date_block_num</th>\n",
       "      <th>shop_id</th>\n",
       "      <th>item_id</th>\n",
       "      <th>item_price</th>\n",
       "      <th>item_cnt_day</th>\n",
       "    </tr>\n",
       "  </thead>\n",
       "  <tbody>\n",
       "    <tr>\n",
       "      <th>0</th>\n",
       "      <td>02.01.2013</td>\n",
       "      <td>0</td>\n",
       "      <td>59</td>\n",
       "      <td>22154</td>\n",
       "      <td>999.00</td>\n",
       "      <td>1.0</td>\n",
       "    </tr>\n",
       "    <tr>\n",
       "      <th>1</th>\n",
       "      <td>03.01.2013</td>\n",
       "      <td>0</td>\n",
       "      <td>25</td>\n",
       "      <td>2552</td>\n",
       "      <td>899.00</td>\n",
       "      <td>1.0</td>\n",
       "    </tr>\n",
       "    <tr>\n",
       "      <th>2</th>\n",
       "      <td>05.01.2013</td>\n",
       "      <td>0</td>\n",
       "      <td>25</td>\n",
       "      <td>2552</td>\n",
       "      <td>899.00</td>\n",
       "      <td>-1.0</td>\n",
       "    </tr>\n",
       "    <tr>\n",
       "      <th>3</th>\n",
       "      <td>06.01.2013</td>\n",
       "      <td>0</td>\n",
       "      <td>25</td>\n",
       "      <td>2554</td>\n",
       "      <td>1709.05</td>\n",
       "      <td>1.0</td>\n",
       "    </tr>\n",
       "    <tr>\n",
       "      <th>4</th>\n",
       "      <td>15.01.2013</td>\n",
       "      <td>0</td>\n",
       "      <td>25</td>\n",
       "      <td>2555</td>\n",
       "      <td>1099.00</td>\n",
       "      <td>1.0</td>\n",
       "    </tr>\n",
       "  </tbody>\n",
       "</table>\n",
       "</div>"
      ],
      "text/plain": [
       "         date  date_block_num  shop_id  item_id  item_price  item_cnt_day\n",
       "0  02.01.2013               0       59    22154      999.00           1.0\n",
       "1  03.01.2013               0       25     2552      899.00           1.0\n",
       "2  05.01.2013               0       25     2552      899.00          -1.0\n",
       "3  06.01.2013               0       25     2554     1709.05           1.0\n",
       "4  15.01.2013               0       25     2555     1099.00           1.0"
      ]
     },
     "execution_count": 8,
     "metadata": {},
     "output_type": "execute_result"
    }
   ],
   "source": [
    "train.head()"
   ]
  },
  {
   "cell_type": "code",
   "execution_count": 9,
   "metadata": {
    "execution": {
     "iopub.execute_input": "2022-03-26T14:35:02.812361Z",
     "iopub.status.busy": "2022-03-26T14:35:02.812038Z",
     "iopub.status.idle": "2022-03-26T14:35:02.838086Z",
     "shell.execute_reply": "2022-03-26T14:35:02.837140Z",
     "shell.execute_reply.started": "2022-03-26T14:35:02.812324Z"
    }
   },
   "outputs": [
    {
     "name": "stdout",
     "output_type": "stream",
     "text": [
      "<class 'pandas.core.frame.DataFrame'>\n",
      "RangeIndex: 2935849 entries, 0 to 2935848\n",
      "Data columns (total 6 columns):\n",
      " #   Column          Dtype  \n",
      "---  ------          -----  \n",
      " 0   date            object \n",
      " 1   date_block_num  int64  \n",
      " 2   shop_id         int64  \n",
      " 3   item_id         int64  \n",
      " 4   item_price      float64\n",
      " 5   item_cnt_day    float64\n",
      "dtypes: float64(2), int64(3), object(1)\n",
      "memory usage: 134.4+ MB\n"
     ]
    }
   ],
   "source": [
    "train.info()"
   ]
  },
  {
   "cell_type": "code",
   "execution_count": 10,
   "metadata": {
    "execution": {
     "iopub.execute_input": "2022-03-26T14:35:02.839973Z",
     "iopub.status.busy": "2022-03-26T14:35:02.839717Z",
     "iopub.status.idle": "2022-03-26T14:35:02.853128Z",
     "shell.execute_reply": "2022-03-26T14:35:02.852435Z",
     "shell.execute_reply.started": "2022-03-26T14:35:02.839940Z"
    }
   },
   "outputs": [
    {
     "data": {
      "text/html": [
       "<div>\n",
       "<style scoped>\n",
       "    .dataframe tbody tr th:only-of-type {\n",
       "        vertical-align: middle;\n",
       "    }\n",
       "\n",
       "    .dataframe tbody tr th {\n",
       "        vertical-align: top;\n",
       "    }\n",
       "\n",
       "    .dataframe thead th {\n",
       "        text-align: right;\n",
       "    }\n",
       "</style>\n",
       "<table border=\"1\" class=\"dataframe\">\n",
       "  <thead>\n",
       "    <tr style=\"text-align: right;\">\n",
       "      <th></th>\n",
       "      <th>item_category_name</th>\n",
       "      <th>item_category_id</th>\n",
       "    </tr>\n",
       "  </thead>\n",
       "  <tbody>\n",
       "    <tr>\n",
       "      <th>0</th>\n",
       "      <td>PC - Гарнитуры/Наушники</td>\n",
       "      <td>0</td>\n",
       "    </tr>\n",
       "    <tr>\n",
       "      <th>1</th>\n",
       "      <td>Аксессуары - PS2</td>\n",
       "      <td>1</td>\n",
       "    </tr>\n",
       "    <tr>\n",
       "      <th>2</th>\n",
       "      <td>Аксессуары - PS3</td>\n",
       "      <td>2</td>\n",
       "    </tr>\n",
       "    <tr>\n",
       "      <th>3</th>\n",
       "      <td>Аксессуары - PS4</td>\n",
       "      <td>3</td>\n",
       "    </tr>\n",
       "    <tr>\n",
       "      <th>4</th>\n",
       "      <td>Аксессуары - PSP</td>\n",
       "      <td>4</td>\n",
       "    </tr>\n",
       "  </tbody>\n",
       "</table>\n",
       "</div>"
      ],
      "text/plain": [
       "        item_category_name  item_category_id\n",
       "0  PC - Гарнитуры/Наушники                 0\n",
       "1         Аксессуары - PS2                 1\n",
       "2         Аксессуары - PS3                 2\n",
       "3         Аксессуары - PS4                 3\n",
       "4         Аксессуары - PSP                 4"
      ]
     },
     "execution_count": 10,
     "metadata": {},
     "output_type": "execute_result"
    }
   ],
   "source": [
    "cat.head()"
   ]
  },
  {
   "cell_type": "code",
   "execution_count": 11,
   "metadata": {
    "execution": {
     "iopub.execute_input": "2022-03-26T14:35:02.857091Z",
     "iopub.status.busy": "2022-03-26T14:35:02.856282Z",
     "iopub.status.idle": "2022-03-26T14:35:02.863642Z",
     "shell.execute_reply": "2022-03-26T14:35:02.862815Z",
     "shell.execute_reply.started": "2022-03-26T14:35:02.857041Z"
    }
   },
   "outputs": [],
   "source": [
    "# will join item_cat to train data\n",
    "df1 = items[['item_category_id', 'item_id']]"
   ]
  },
  {
   "cell_type": "code",
   "execution_count": 12,
   "metadata": {
    "execution": {
     "iopub.execute_input": "2022-03-26T14:35:02.865299Z",
     "iopub.status.busy": "2022-03-26T14:35:02.864726Z",
     "iopub.status.idle": "2022-03-26T14:35:03.347654Z",
     "shell.execute_reply": "2022-03-26T14:35:03.346457Z",
     "shell.execute_reply.started": "2022-03-26T14:35:02.865263Z"
    }
   },
   "outputs": [],
   "source": [
    "data = train.merge(df1, how='left', on='item_id')"
   ]
  },
  {
   "cell_type": "code",
   "execution_count": 13,
   "metadata": {
    "execution": {
     "iopub.execute_input": "2022-03-26T14:35:03.349558Z",
     "iopub.status.busy": "2022-03-26T14:35:03.349015Z",
     "iopub.status.idle": "2022-03-26T14:35:03.366563Z",
     "shell.execute_reply": "2022-03-26T14:35:03.365871Z",
     "shell.execute_reply.started": "2022-03-26T14:35:03.349513Z"
    }
   },
   "outputs": [
    {
     "data": {
      "text/html": [
       "<div>\n",
       "<style scoped>\n",
       "    .dataframe tbody tr th:only-of-type {\n",
       "        vertical-align: middle;\n",
       "    }\n",
       "\n",
       "    .dataframe tbody tr th {\n",
       "        vertical-align: top;\n",
       "    }\n",
       "\n",
       "    .dataframe thead th {\n",
       "        text-align: right;\n",
       "    }\n",
       "</style>\n",
       "<table border=\"1\" class=\"dataframe\">\n",
       "  <thead>\n",
       "    <tr style=\"text-align: right;\">\n",
       "      <th></th>\n",
       "      <th>date</th>\n",
       "      <th>date_block_num</th>\n",
       "      <th>shop_id</th>\n",
       "      <th>item_id</th>\n",
       "      <th>item_price</th>\n",
       "      <th>item_cnt_day</th>\n",
       "      <th>item_category_id</th>\n",
       "    </tr>\n",
       "  </thead>\n",
       "  <tbody>\n",
       "    <tr>\n",
       "      <th>0</th>\n",
       "      <td>02.01.2013</td>\n",
       "      <td>0</td>\n",
       "      <td>59</td>\n",
       "      <td>22154</td>\n",
       "      <td>999.00</td>\n",
       "      <td>1.0</td>\n",
       "      <td>37</td>\n",
       "    </tr>\n",
       "    <tr>\n",
       "      <th>1</th>\n",
       "      <td>03.01.2013</td>\n",
       "      <td>0</td>\n",
       "      <td>25</td>\n",
       "      <td>2552</td>\n",
       "      <td>899.00</td>\n",
       "      <td>1.0</td>\n",
       "      <td>58</td>\n",
       "    </tr>\n",
       "    <tr>\n",
       "      <th>2</th>\n",
       "      <td>05.01.2013</td>\n",
       "      <td>0</td>\n",
       "      <td>25</td>\n",
       "      <td>2552</td>\n",
       "      <td>899.00</td>\n",
       "      <td>-1.0</td>\n",
       "      <td>58</td>\n",
       "    </tr>\n",
       "    <tr>\n",
       "      <th>3</th>\n",
       "      <td>06.01.2013</td>\n",
       "      <td>0</td>\n",
       "      <td>25</td>\n",
       "      <td>2554</td>\n",
       "      <td>1709.05</td>\n",
       "      <td>1.0</td>\n",
       "      <td>58</td>\n",
       "    </tr>\n",
       "    <tr>\n",
       "      <th>4</th>\n",
       "      <td>15.01.2013</td>\n",
       "      <td>0</td>\n",
       "      <td>25</td>\n",
       "      <td>2555</td>\n",
       "      <td>1099.00</td>\n",
       "      <td>1.0</td>\n",
       "      <td>56</td>\n",
       "    </tr>\n",
       "  </tbody>\n",
       "</table>\n",
       "</div>"
      ],
      "text/plain": [
       "         date  date_block_num  shop_id  item_id  item_price  item_cnt_day  \\\n",
       "0  02.01.2013               0       59    22154      999.00           1.0   \n",
       "1  03.01.2013               0       25     2552      899.00           1.0   \n",
       "2  05.01.2013               0       25     2552      899.00          -1.0   \n",
       "3  06.01.2013               0       25     2554     1709.05           1.0   \n",
       "4  15.01.2013               0       25     2555     1099.00           1.0   \n",
       "\n",
       "   item_category_id  \n",
       "0                37  \n",
       "1                58  \n",
       "2                58  \n",
       "3                58  \n",
       "4                56  "
      ]
     },
     "execution_count": 13,
     "metadata": {},
     "output_type": "execute_result"
    }
   ],
   "source": [
    "data.head()"
   ]
  },
  {
   "cell_type": "code",
   "execution_count": 14,
   "metadata": {
    "execution": {
     "iopub.execute_input": "2022-03-26T14:35:03.368240Z",
     "iopub.status.busy": "2022-03-26T14:35:03.367621Z",
     "iopub.status.idle": "2022-03-26T14:35:04.693459Z",
     "shell.execute_reply": "2022-03-26T14:35:04.692499Z",
     "shell.execute_reply.started": "2022-03-26T14:35:03.368166Z"
    }
   },
   "outputs": [
    {
     "name": "stderr",
     "output_type": "stream",
     "text": [
      "C:\\Users\\USER7\\anaconda3\\lib\\site-packages\\seaborn\\_decorators.py:36: FutureWarning: Pass the following variable as a keyword arg: x. From version 0.12, the only valid positional argument will be `data`, and passing other arguments without an explicit keyword will result in an error or misinterpretation.\n",
      "  warnings.warn(\n"
     ]
    },
    {
     "data": {
      "image/png": "[encoded data removed]",
      "text/plain": [
       "<Figure size 432x288 with 1 Axes>"
      ]
     },
     "metadata": {
      "needs_background": "light"
     },
     "output_type": "display_data"
    }
   ],
   "source": [
    "# reviewing the outlier of items prices\n",
    "ax = sns.boxplot(data['item_price']) \n",
    "# hence will set the maximum for the item price 100,000, as 300,000 cannot even be due to plausible anomalies."
   ]
  },
  {
   "cell_type": "code",
   "execution_count": 15,
   "metadata": {
    "execution": {
     "iopub.execute_input": "2022-03-26T14:35:04.695029Z",
     "iopub.status.busy": "2022-03-26T14:35:04.694666Z",
     "iopub.status.idle": "2022-03-26T14:35:04.999160Z",
     "shell.execute_reply": "2022-03-26T14:35:04.998271Z",
     "shell.execute_reply.started": "2022-03-26T14:35:04.694989Z"
    }
   },
   "outputs": [],
   "source": [
    "data = data[data['item_price']<100000]"
   ]
  },
  {
   "cell_type": "code",
   "execution_count": 16,
   "metadata": {
    "execution": {
     "iopub.execute_input": "2022-03-26T14:35:05.001767Z",
     "iopub.status.busy": "2022-03-26T14:35:05.001382Z",
     "iopub.status.idle": "2022-03-26T14:35:05.411616Z",
     "shell.execute_reply": "2022-03-26T14:35:05.410595Z",
     "shell.execute_reply.started": "2022-03-26T14:35:05.001721Z"
    }
   },
   "outputs": [],
   "source": [
    "data = data.reset_index().drop('index', axis=1)"
   ]
  },
  {
   "cell_type": "code",
   "execution_count": 17,
   "metadata": {
    "execution": {
     "iopub.execute_input": "2022-03-26T14:35:05.412928Z",
     "iopub.status.busy": "2022-03-26T14:35:05.412693Z",
     "iopub.status.idle": "2022-03-26T14:35:06.809463Z",
     "shell.execute_reply": "2022-03-26T14:35:06.808508Z",
     "shell.execute_reply.started": "2022-03-26T14:35:05.412899Z"
    }
   },
   "outputs": [
    {
     "name": "stderr",
     "output_type": "stream",
     "text": [
      "C:\\Users\\USER7\\anaconda3\\lib\\site-packages\\seaborn\\_decorators.py:36: FutureWarning: Pass the following variable as a keyword arg: x. From version 0.12, the only valid positional argument will be `data`, and passing other arguments without an explicit keyword will result in an error or misinterpretation.\n",
      "  warnings.warn(\n"
     ]
    },
    {
     "data": {
      "image/png": "[encoded data removed]",
      "text/plain": [
       "<Figure size 432x288 with 1 Axes>"
      ]
     },
     "metadata": {
      "needs_background": "light"
     },
     "output_type": "display_data"
    }
   ],
   "source": [
    "# reviewing the outlier of the number of products sold\n",
    "ax = sns.boxplot(data['item_cnt_day']) \n",
    "# we can see that we have some negative values which has no meaning, the  other outliers can be due to plausible anomalies,as i am going to use LSTM it's not necessary to remove it."
   ]
  },
  {
   "cell_type": "code",
   "execution_count": 18,
   "metadata": {
    "execution": {
     "iopub.execute_input": "2022-03-26T14:35:06.810976Z",
     "iopub.status.busy": "2022-03-26T14:35:06.810746Z",
     "iopub.status.idle": "2022-03-26T14:35:06.833947Z",
     "shell.execute_reply": "2022-03-26T14:35:06.833097Z",
     "shell.execute_reply.started": "2022-03-26T14:35:06.810946Z"
    },
    "scrolled": true
   },
   "outputs": [
    {
     "data": {
      "text/html": [
       "<div>\n",
       "<style scoped>\n",
       "    .dataframe tbody tr th:only-of-type {\n",
       "        vertical-align: middle;\n",
       "    }\n",
       "\n",
       "    .dataframe tbody tr th {\n",
       "        vertical-align: top;\n",
       "    }\n",
       "\n",
       "    .dataframe thead th {\n",
       "        text-align: right;\n",
       "    }\n",
       "</style>\n",
       "<table border=\"1\" class=\"dataframe\">\n",
       "  <thead>\n",
       "    <tr style=\"text-align: right;\">\n",
       "      <th></th>\n",
       "      <th>date</th>\n",
       "      <th>date_block_num</th>\n",
       "      <th>shop_id</th>\n",
       "      <th>item_id</th>\n",
       "      <th>item_price</th>\n",
       "      <th>item_cnt_day</th>\n",
       "      <th>item_category_id</th>\n",
       "    </tr>\n",
       "  </thead>\n",
       "  <tbody>\n",
       "    <tr>\n",
       "      <th>2326929</th>\n",
       "      <td>15.01.2015</td>\n",
       "      <td>24</td>\n",
       "      <td>12</td>\n",
       "      <td>20949</td>\n",
       "      <td>4.000000</td>\n",
       "      <td>1000.0</td>\n",
       "      <td>71</td>\n",
       "    </tr>\n",
       "    <tr>\n",
       "      <th>2909817</th>\n",
       "      <td>28.10.2015</td>\n",
       "      <td>33</td>\n",
       "      <td>12</td>\n",
       "      <td>11373</td>\n",
       "      <td>0.908714</td>\n",
       "      <td>2169.0</td>\n",
       "      <td>9</td>\n",
       "    </tr>\n",
       "  </tbody>\n",
       "</table>\n",
       "</div>"
      ],
      "text/plain": [
       "               date  date_block_num  shop_id  item_id  item_price  \\\n",
       "2326929  15.01.2015              24       12    20949    4.000000   \n",
       "2909817  28.10.2015              33       12    11373    0.908714   \n",
       "\n",
       "         item_cnt_day  item_category_id  \n",
       "2326929        1000.0                71  \n",
       "2909817        2169.0                 9  "
      ]
     },
     "execution_count": 18,
     "metadata": {},
     "output_type": "execute_result"
    }
   ],
   "source": [
    "data[data['item_cnt_day']>700]\n",
    "# checked if that day with high sales is kind of cyclical event every year."
   ]
  },
  {
   "cell_type": "code",
   "execution_count": 19,
   "metadata": {
    "execution": {
     "iopub.execute_input": "2022-03-26T14:35:06.835563Z",
     "iopub.status.busy": "2022-03-26T14:35:06.835318Z",
     "iopub.status.idle": "2022-03-26T14:35:06.875121Z",
     "shell.execute_reply": "2022-03-26T14:35:06.874166Z",
     "shell.execute_reply.started": "2022-03-26T14:35:06.835535Z"
    },
    "scrolled": true
   },
   "outputs": [
    {
     "data": {
      "text/plain": [
       "array([1.0, -1.0, 3.0, 2.0, 4.0, 5.0, 13.0, 7.0, 6.0, 8.0, 10.0, 11.0,\n",
       "       30.0, 22.0, 14.0, 15.0, 9.0, 12.0, 17.0, 19.0, 20.0, -5.0, -6.0,\n",
       "       -3.0, -2.0, 16.0, 64.0, 18.0, 29.0, 26.0, 39.0, 21.0, 27.0, 53.0,\n",
       "       25.0, 23.0, 24.0, 40.0, 28.0, 31.0, 36.0, -4.0, 32.0, 35.0, 41.0,\n",
       "       88.0, 44.0, 52.0, 56.0, 38.0, 34.0, 57.0, 69.0, 37.0, 47.0, 50.0,\n",
       "       48.0, 33.0, 61.0, 80.0, 42.0, 82.0, 200.0, 100.0, 76.0, 77.0,\n",
       "       107.0, 46.0, 49.0, 70.0, 55.0, 60.0, 45.0, 71.0, 65.0, 150.0, 85.0,\n",
       "       89.0, 43.0, 58.0, 217.0, 104.0, 84.0, 168.0, 92.0, 156.0, 68.0,\n",
       "       62.0, 264.0, 110.0, 83.0, 133.0, 51.0, 148.0, 54.0, 67.0, 106.0,\n",
       "       109.0, 102.0, 90.0, 288.0, 171.0, 131.0, 87.0, 78.0, 151.0, 59.0,\n",
       "       113.0, 118.0, 127.0, 97.0, 135.0, -22.0, 103.0, 111.0, 96.0, 242.0,\n",
       "       105.0, 72.0, 126.0, 73.0, 101.0, 91.0, 63.0, 194.0, 255.0, 98.0,\n",
       "       81.0, 75.0, 74.0, 121.0, 405.0, 99.0, 300.0, 401.0, 502.0, 138.0,\n",
       "       134.0, 66.0, 240.0, 130.0, 115.0, 164.0, 112.0, 501.0, 251.0,\n",
       "       -16.0, 93.0, 124.0, 149.0, 132.0, 195.0, 512.0, -9.0, 508.0, 412.0,\n",
       "       313.0, 128.0, 142.0, 163.0, 108.0, 147.0, 167.0, 86.0, 79.0, 500.0,\n",
       "       205.0, 153.0, 1000.0, 222.0, 116.0, 325.0, 207.0, 129.0, 231.0,\n",
       "       114.0, 299.0, 145.0, 117.0, 624.0, 187.0, 140.0, 480.0, 343.0,\n",
       "       539.0, 230.0, 179.0, 95.0, 154.0, 533.0, 139.0, 637.0, 146.0,\n",
       "       669.0, 157.0, 504.0, 161.0, 2169.0])"
      ]
     },
     "execution_count": 19,
     "metadata": {},
     "output_type": "execute_result"
    }
   ],
   "source": [
    "np.set_printoptions(formatter={'float': \"{0:0}\".format})\n",
    "data['item_cnt_day'].unique() "
   ]
  },
  {
   "cell_type": "code",
   "execution_count": 20,
   "metadata": {
    "execution": {
     "iopub.execute_input": "2022-03-26T14:35:06.876700Z",
     "iopub.status.busy": "2022-03-26T14:35:06.876450Z",
     "iopub.status.idle": "2022-03-26T14:35:06.900456Z",
     "shell.execute_reply": "2022-03-26T14:35:06.899555Z",
     "shell.execute_reply.started": "2022-03-26T14:35:06.876671Z"
    }
   },
   "outputs": [
    {
     "data": {
      "text/plain": [
       "date              7356\n",
       "date_block_num    7356\n",
       "shop_id           7356\n",
       "item_id           7356\n",
       "item_price        7356\n",
       "item_cnt_day      7356\n",
       "dtype: int64"
      ]
     },
     "execution_count": 20,
     "metadata": {},
     "output_type": "execute_result"
    }
   ],
   "source": [
    "# removing the negative numbers and zero values in number of products sold.\n",
    "train[train['item_cnt_day']<1].count()"
   ]
  },
  {
   "cell_type": "code",
   "execution_count": 21,
   "metadata": {
    "execution": {
     "iopub.execute_input": "2022-03-26T14:35:06.901926Z",
     "iopub.status.busy": "2022-03-26T14:35:06.901693Z",
     "iopub.status.idle": "2022-03-26T14:35:07.098658Z",
     "shell.execute_reply": "2022-03-26T14:35:07.097864Z",
     "shell.execute_reply.started": "2022-03-26T14:35:06.901896Z"
    }
   },
   "outputs": [],
   "source": [
    "data = data[data['item_cnt_day']>0]"
   ]
  },
  {
   "cell_type": "code",
   "execution_count": 22,
   "metadata": {
    "execution": {
     "iopub.execute_input": "2022-03-26T14:35:07.100324Z",
     "iopub.status.busy": "2022-03-26T14:35:07.099954Z",
     "iopub.status.idle": "2022-03-26T14:35:08.139674Z",
     "shell.execute_reply": "2022-03-26T14:35:08.138558Z",
     "shell.execute_reply.started": "2022-03-26T14:35:07.100294Z"
    }
   },
   "outputs": [
    {
     "name": "stderr",
     "output_type": "stream",
     "text": [
      "C:\\Users\\USER7\\anaconda3\\lib\\site-packages\\seaborn\\_decorators.py:36: FutureWarning: Pass the following variable as a keyword arg: x. From version 0.12, the only valid positional argument will be `data`, and passing other arguments without an explicit keyword will result in an error or misinterpretation.\n",
      "  warnings.warn(\n"
     ]
    },
    {
     "data": {
      "image/png": "[encoded data removed]",
      "text/plain": [
       "<Figure size 1368x576 with 1 Axes>"
      ]
     },
     "metadata": {
      "needs_background": "light"
     },
     "output_type": "display_data"
    }
   ],
   "source": [
    "# finding the top sellers shops.\n",
    "plt.figure(figsize=(19,8))\n",
    "sns.countplot(data['shop_id'],palette='viridis')\n",
    "plt.show()"
   ]
  },
  {
   "cell_type": "code",
   "execution_count": 109,
   "metadata": {},
   "outputs": [
    {
     "data": {
      "text/html": [
       "<div>\n",
       "<style scoped>\n",
       "    .dataframe tbody tr th:only-of-type {\n",
       "        vertical-align: middle;\n",
       "    }\n",
       "\n",
       "    .dataframe tbody tr th {\n",
       "        vertical-align: top;\n",
       "    }\n",
       "\n",
       "    .dataframe thead th {\n",
       "        text-align: right;\n",
       "    }\n",
       "</style>\n",
       "<table border=\"1\" class=\"dataframe\">\n",
       "  <thead>\n",
       "    <tr style=\"text-align: right;\">\n",
       "      <th></th>\n",
       "      <th>shop_name</th>\n",
       "      <th>shop_id</th>\n",
       "    </tr>\n",
       "  </thead>\n",
       "  <tbody>\n",
       "    <tr>\n",
       "      <th>6</th>\n",
       "      <td>Воронеж (Плехановская, 13)</td>\n",
       "      <td>6</td>\n",
       "    </tr>\n",
       "    <tr>\n",
       "      <th>25</th>\n",
       "      <td>Москва ТРК \"Атриум\"</td>\n",
       "      <td>25</td>\n",
       "    </tr>\n",
       "    <tr>\n",
       "      <th>27</th>\n",
       "      <td>Москва ТЦ \"МЕГА Белая Дача II\"</td>\n",
       "      <td>27</td>\n",
       "    </tr>\n",
       "    <tr>\n",
       "      <th>28</th>\n",
       "      <td>Москва ТЦ \"МЕГА Теплый Стан\" II</td>\n",
       "      <td>28</td>\n",
       "    </tr>\n",
       "    <tr>\n",
       "      <th>31</th>\n",
       "      <td>Москва ТЦ \"Семеновский\"</td>\n",
       "      <td>31</td>\n",
       "    </tr>\n",
       "    <tr>\n",
       "      <th>42</th>\n",
       "      <td>СПб ТК \"Невский Центр\"</td>\n",
       "      <td>42</td>\n",
       "    </tr>\n",
       "    <tr>\n",
       "      <th>54</th>\n",
       "      <td>Химки ТЦ \"Мега\"</td>\n",
       "      <td>54</td>\n",
       "    </tr>\n",
       "    <tr>\n",
       "      <th>57</th>\n",
       "      <td>Якутск Орджоникидзе, 56</td>\n",
       "      <td>57</td>\n",
       "    </tr>\n",
       "  </tbody>\n",
       "</table>\n",
       "</div>"
      ],
      "text/plain": [
       "                          shop_name  shop_id\n",
       "6        Воронеж (Плехановская, 13)        6\n",
       "25              Москва ТРК \"Атриум\"       25\n",
       "27   Москва ТЦ \"МЕГА Белая Дача II\"       27\n",
       "28  Москва ТЦ \"МЕГА Теплый Стан\" II       28\n",
       "31          Москва ТЦ \"Семеновский\"       31\n",
       "42           СПб ТК \"Невский Центр\"       42\n",
       "54                  Химки ТЦ \"Мега\"       54\n",
       "57          Якутск Орджоникидзе, 56       57"
      ]
     },
     "execution_count": 109,
     "metadata": {},
     "output_type": "execute_result"
    }
   ],
   "source": [
    "#lst = [6, 25, 31, 42, 54, 57, 27, 28] # the top sellers shop names\n",
    "shops[shops['shop_id'].isin([6, 25, 31, 42, 54, 57, 27, 28])]"
   ]
  },
  {
   "cell_type": "code",
   "execution_count": 112,
   "metadata": {},
   "outputs": [],
   "source": [
    "items_count = pd.DataFrame(data['item_id'].value_counts()) # finding the top sellers items"
   ]
  },
  {
   "cell_type": "code",
   "execution_count": 117,
   "metadata": {},
   "outputs": [],
   "source": [
    "top_items = items_count[items_count['item_id']>5000]"
   ]
  },
  {
   "cell_type": "code",
   "execution_count": 125,
   "metadata": {},
   "outputs": [
    {
     "data": {
      "text/plain": [
       "<AxesSubplot:ylabel='item_id'>"
      ]
     },
     "execution_count": 125,
     "metadata": {},
     "output_type": "execute_result"
    },
    {
     "data": {
      "image/png": "[encoded data removed]",
      "text/plain": [
       "<Figure size 1368x576 with 1 Axes>"
      ]
     },
     "metadata": {
      "needs_background": "light"
     },
     "output_type": "display_data"
    }
   ],
   "source": [
    "plt.figure(figsize=(19,8)) \n",
    "sns.barplot(x=top_items.index, y=\"item_id\", data=top_items, palette = \"Blues\")"
   ]
  },
  {
   "cell_type": "code",
   "execution_count": 127,
   "metadata": {},
   "outputs": [
    {
     "data": {
      "text/plain": [
       "array([31337,  9404,  9067,  7470,  6850,  6598,  6451,  6310,  5788,\n",
       "        5764,  5672,  5383,  5256,  5098,  5092,  5044], dtype=int64)"
      ]
     },
     "execution_count": 127,
     "metadata": {},
     "output_type": "execute_result"
    }
   ],
   "source": [
    "np.array(top_items['item_id'])"
   ]
  },
  {
   "cell_type": "code",
   "execution_count": 128,
   "metadata": {},
   "outputs": [
    {
     "data": {
      "text/html": [
       "<div>\n",
       "<style scoped>\n",
       "    .dataframe tbody tr th:only-of-type {\n",
       "        vertical-align: middle;\n",
       "    }\n",
       "\n",
       "    .dataframe tbody tr th {\n",
       "        vertical-align: top;\n",
       "    }\n",
       "\n",
       "    .dataframe thead th {\n",
       "        text-align: right;\n",
       "    }\n",
       "</style>\n",
       "<table border=\"1\" class=\"dataframe\">\n",
       "  <thead>\n",
       "    <tr style=\"text-align: right;\">\n",
       "      <th></th>\n",
       "      <th>item_name</th>\n",
       "      <th>item_id</th>\n",
       "      <th>item_category_id</th>\n",
       "    </tr>\n",
       "  </thead>\n",
       "  <tbody>\n",
       "    <tr>\n",
       "      <th>5044</th>\n",
       "      <td>NHL 16. Legacy Edition [Xbox 360, русские субт...</td>\n",
       "      <td>5044</td>\n",
       "      <td>23</td>\n",
       "    </tr>\n",
       "    <tr>\n",
       "      <th>5092</th>\n",
       "      <td>Nanoblock Бас-гитара</td>\n",
       "      <td>5092</td>\n",
       "      <td>67</td>\n",
       "    </tr>\n",
       "    <tr>\n",
       "      <th>5098</th>\n",
       "      <td>Nanoblock Божья коровка</td>\n",
       "      <td>5098</td>\n",
       "      <td>67</td>\n",
       "    </tr>\n",
       "    <tr>\n",
       "      <th>5256</th>\n",
       "      <td>Need for Speed Shift 2 Unleashed [PS3, русская...</td>\n",
       "      <td>5256</td>\n",
       "      <td>19</td>\n",
       "    </tr>\n",
       "    <tr>\n",
       "      <th>5383</th>\n",
       "      <td>Office Home and Student 2016 Win Russian Russi...</td>\n",
       "      <td>5383</td>\n",
       "      <td>75</td>\n",
       "    </tr>\n",
       "    <tr>\n",
       "      <th>5672</th>\n",
       "      <td>PS4: Контроллер игровой беспроводной черный (D...</td>\n",
       "      <td>5672</td>\n",
       "      <td>3</td>\n",
       "    </tr>\n",
       "    <tr>\n",
       "      <th>5764</th>\n",
       "      <td>Pinnacle Studio 17 Plus ML (коробка)</td>\n",
       "      <td>5764</td>\n",
       "      <td>75</td>\n",
       "    </tr>\n",
       "    <tr>\n",
       "      <th>5788</th>\n",
       "      <td>Planet mp3. Dance Collection (mp3-CD) (Jewel)</td>\n",
       "      <td>5788</td>\n",
       "      <td>57</td>\n",
       "    </tr>\n",
       "    <tr>\n",
       "      <th>6310</th>\n",
       "      <td>SLIPKNOT  Antennas To Hell  CD+DVD (фирм.)</td>\n",
       "      <td>6310</td>\n",
       "      <td>56</td>\n",
       "    </tr>\n",
       "    <tr>\n",
       "      <th>6451</th>\n",
       "      <td>Silent Hill: Book of Memories [PS Vita, англий...</td>\n",
       "      <td>6451</td>\n",
       "      <td>22</td>\n",
       "    </tr>\n",
       "    <tr>\n",
       "      <th>6598</th>\n",
       "      <td>Skylanders. Набор из трех фигурок: Chop Chop, ...</td>\n",
       "      <td>6598</td>\n",
       "      <td>25</td>\n",
       "    </tr>\n",
       "    <tr>\n",
       "      <th>6850</th>\n",
       "      <td>THE ROLLING STONES  1964-1969  Limited Edition...</td>\n",
       "      <td>6850</td>\n",
       "      <td>58</td>\n",
       "    </tr>\n",
       "    <tr>\n",
       "      <th>7470</th>\n",
       "      <td>V/A Top 100 DJ  4  4CD (digibook)</td>\n",
       "      <td>7470</td>\n",
       "      <td>55</td>\n",
       "    </tr>\n",
       "    <tr>\n",
       "      <th>9067</th>\n",
       "      <td>БУКАШКИ: ЛЕСНЫЕ СКАЗКИ</td>\n",
       "      <td>9067</td>\n",
       "      <td>40</td>\n",
       "    </tr>\n",
       "    <tr>\n",
       "      <th>9404</th>\n",
       "      <td>Брелок металлический WOT Снайпер (100110)</td>\n",
       "      <td>9404</td>\n",
       "      <td>70</td>\n",
       "    </tr>\n",
       "  </tbody>\n",
       "</table>\n",
       "</div>"
      ],
      "text/plain": [
       "                                              item_name  item_id  \\\n",
       "5044  NHL 16. Legacy Edition [Xbox 360, русские субт...     5044   \n",
       "5092                               Nanoblock Бас-гитара     5092   \n",
       "5098                            Nanoblock Божья коровка     5098   \n",
       "5256  Need for Speed Shift 2 Unleashed [PS3, русская...     5256   \n",
       "5383  Office Home and Student 2016 Win Russian Russi...     5383   \n",
       "5672  PS4: Контроллер игровой беспроводной черный (D...     5672   \n",
       "5764               Pinnacle Studio 17 Plus ML (коробка)     5764   \n",
       "5788      Planet mp3. Dance Collection (mp3-CD) (Jewel)     5788   \n",
       "6310         SLIPKNOT  Antennas To Hell  CD+DVD (фирм.)     6310   \n",
       "6451  Silent Hill: Book of Memories [PS Vita, англий...     6451   \n",
       "6598  Skylanders. Набор из трех фигурок: Chop Chop, ...     6598   \n",
       "6850  THE ROLLING STONES  1964-1969  Limited Edition...     6850   \n",
       "7470                  V/A Top 100 DJ  4  4CD (digibook)     7470   \n",
       "9067                             БУКАШКИ: ЛЕСНЫЕ СКАЗКИ     9067   \n",
       "9404          Брелок металлический WOT Снайпер (100110)     9404   \n",
       "\n",
       "      item_category_id  \n",
       "5044                23  \n",
       "5092                67  \n",
       "5098                67  \n",
       "5256                19  \n",
       "5383                75  \n",
       "5672                 3  \n",
       "5764                75  \n",
       "5788                57  \n",
       "6310                56  \n",
       "6451                22  \n",
       "6598                25  \n",
       "6850                58  \n",
       "7470                55  \n",
       "9067                40  \n",
       "9404                70  "
      ]
     },
     "execution_count": 128,
     "metadata": {},
     "output_type": "execute_result"
    }
   ],
   "source": [
    "items[items['item_id'].isin([31337,  9404,  9067,  7470,  6850,  6598,  6451,  6310,  5788,\n",
    "        5764,  5672,  5383,  5256,  5098,  5092,  5044])] # top items name"
   ]
  },
  {
   "cell_type": "code",
   "execution_count": 23,
   "metadata": {
    "execution": {
     "iopub.execute_input": "2022-03-26T14:35:08.141273Z",
     "iopub.status.busy": "2022-03-26T14:35:08.141001Z",
     "iopub.status.idle": "2022-03-26T14:35:08.154414Z",
     "shell.execute_reply": "2022-03-26T14:35:08.153331Z",
     "shell.execute_reply.started": "2022-03-26T14:35:08.141241Z"
    }
   },
   "outputs": [
    {
     "name": "stdout",
     "output_type": "stream",
     "text": [
      "<class 'pandas.core.frame.DataFrame'>\n",
      "Int64Index: 2928492 entries, 0 to 2935847\n",
      "Data columns (total 7 columns):\n",
      " #   Column            Dtype  \n",
      "---  ------            -----  \n",
      " 0   date              object \n",
      " 1   date_block_num    int64  \n",
      " 2   shop_id           int64  \n",
      " 3   item_id           int64  \n",
      " 4   item_price        float64\n",
      " 5   item_cnt_day      float64\n",
      " 6   item_category_id  int64  \n",
      "dtypes: float64(2), int64(4), object(1)\n",
      "memory usage: 178.7+ MB\n"
     ]
    }
   ],
   "source": [
    "data.info()"
   ]
  },
  {
   "cell_type": "code",
   "execution_count": 24,
   "metadata": {
    "execution": {
     "iopub.execute_input": "2022-03-26T14:35:08.155921Z",
     "iopub.status.busy": "2022-03-26T14:35:08.155622Z",
     "iopub.status.idle": "2022-03-26T14:35:09.121610Z",
     "shell.execute_reply": "2022-03-26T14:35:09.120831Z",
     "shell.execute_reply.started": "2022-03-26T14:35:08.155885Z"
    }
   },
   "outputs": [
    {
     "data": {
      "text/plain": [
       "<AxesSubplot:>"
      ]
     },
     "execution_count": 24,
     "metadata": {},
     "output_type": "execute_result"
    },
    {
     "data": {
      "image/png": "[encoded data removed]",
      "text/plain": [
       "<Figure size 720x720 with 2 Axes>"
      ]
     },
     "metadata": {
      "needs_background": "light"
     },
     "output_type": "display_data"
    }
   ],
   "source": [
    "plt.figure(figsize=(10,10))\n",
    "\n",
    "sns.heatmap(data.corr(),cmap='viridis',annot=True)"
   ]
  },
  {
   "cell_type": "code",
   "execution_count": 25,
   "metadata": {
    "execution": {
     "iopub.execute_input": "2022-03-26T14:35:09.122920Z",
     "iopub.status.busy": "2022-03-26T14:35:09.122652Z",
     "iopub.status.idle": "2022-03-26T14:35:09.777462Z",
     "shell.execute_reply": "2022-03-26T14:35:09.776722Z",
     "shell.execute_reply.started": "2022-03-26T14:35:09.122873Z"
    }
   },
   "outputs": [
    {
     "data": {
      "text/html": [
       "<div>\n",
       "<style scoped>\n",
       "    .dataframe tbody tr th:only-of-type {\n",
       "        vertical-align: middle;\n",
       "    }\n",
       "\n",
       "    .dataframe tbody tr th {\n",
       "        vertical-align: top;\n",
       "    }\n",
       "\n",
       "    .dataframe thead th {\n",
       "        text-align: right;\n",
       "    }\n",
       "</style>\n",
       "<table border=\"1\" class=\"dataframe\">\n",
       "  <thead>\n",
       "    <tr style=\"text-align: right;\">\n",
       "      <th></th>\n",
       "      <th>count</th>\n",
       "      <th>mean</th>\n",
       "      <th>std</th>\n",
       "      <th>min</th>\n",
       "      <th>25%</th>\n",
       "      <th>50%</th>\n",
       "      <th>75%</th>\n",
       "      <th>max</th>\n",
       "    </tr>\n",
       "  </thead>\n",
       "  <tbody>\n",
       "    <tr>\n",
       "      <th>date_block_num</th>\n",
       "      <td>2928492.0</td>\n",
       "      <td>14.569761</td>\n",
       "      <td>9.422953</td>\n",
       "      <td>0.0</td>\n",
       "      <td>7.0</td>\n",
       "      <td>14.0</td>\n",
       "      <td>23.0</td>\n",
       "      <td>33.0</td>\n",
       "    </tr>\n",
       "    <tr>\n",
       "      <th>shop_id</th>\n",
       "      <td>2928492.0</td>\n",
       "      <td>33.002959</td>\n",
       "      <td>16.225424</td>\n",
       "      <td>0.0</td>\n",
       "      <td>22.0</td>\n",
       "      <td>31.0</td>\n",
       "      <td>47.0</td>\n",
       "      <td>59.0</td>\n",
       "    </tr>\n",
       "    <tr>\n",
       "      <th>item_id</th>\n",
       "      <td>2928492.0</td>\n",
       "      <td>10200.280910</td>\n",
       "      <td>6324.396874</td>\n",
       "      <td>0.0</td>\n",
       "      <td>4477.0</td>\n",
       "      <td>9355.0</td>\n",
       "      <td>15691.0</td>\n",
       "      <td>22169.0</td>\n",
       "    </tr>\n",
       "    <tr>\n",
       "      <th>item_price</th>\n",
       "      <td>2928492.0</td>\n",
       "      <td>889.361584</td>\n",
       "      <td>1718.152833</td>\n",
       "      <td>-1.0</td>\n",
       "      <td>249.0</td>\n",
       "      <td>399.0</td>\n",
       "      <td>999.0</td>\n",
       "      <td>59200.0</td>\n",
       "    </tr>\n",
       "    <tr>\n",
       "      <th>item_cnt_day</th>\n",
       "      <td>2928492.0</td>\n",
       "      <td>1.248337</td>\n",
       "      <td>2.619586</td>\n",
       "      <td>1.0</td>\n",
       "      <td>1.0</td>\n",
       "      <td>1.0</td>\n",
       "      <td>1.0</td>\n",
       "      <td>2169.0</td>\n",
       "    </tr>\n",
       "    <tr>\n",
       "      <th>item_category_id</th>\n",
       "      <td>2928492.0</td>\n",
       "      <td>40.016343</td>\n",
       "      <td>17.098103</td>\n",
       "      <td>0.0</td>\n",
       "      <td>28.0</td>\n",
       "      <td>40.0</td>\n",
       "      <td>55.0</td>\n",
       "      <td>83.0</td>\n",
       "    </tr>\n",
       "  </tbody>\n",
       "</table>\n",
       "</div>"
      ],
      "text/plain": [
       "                      count          mean          std  min     25%     50%  \\\n",
       "date_block_num    2928492.0     14.569761     9.422953  0.0     7.0    14.0   \n",
       "shop_id           2928492.0     33.002959    16.225424  0.0    22.0    31.0   \n",
       "item_id           2928492.0  10200.280910  6324.396874  0.0  4477.0  9355.0   \n",
       "item_price        2928492.0    889.361584  1718.152833 -1.0   249.0   399.0   \n",
       "item_cnt_day      2928492.0      1.248337     2.619586  1.0     1.0     1.0   \n",
       "item_category_id  2928492.0     40.016343    17.098103  0.0    28.0    40.0   \n",
       "\n",
       "                      75%      max  \n",
       "date_block_num       23.0     33.0  \n",
       "shop_id              47.0     59.0  \n",
       "item_id           15691.0  22169.0  \n",
       "item_price          999.0  59200.0  \n",
       "item_cnt_day          1.0   2169.0  \n",
       "item_category_id     55.0     83.0  "
      ]
     },
     "execution_count": 25,
     "metadata": {},
     "output_type": "execute_result"
    }
   ],
   "source": [
    "data.describe().T"
   ]
  },
  {
   "cell_type": "code",
   "execution_count": 26,
   "metadata": {
    "execution": {
     "iopub.execute_input": "2022-03-26T14:35:09.779779Z",
     "iopub.status.busy": "2022-03-26T14:35:09.778906Z",
     "iopub.status.idle": "2022-03-26T14:35:10.131434Z",
     "shell.execute_reply": "2022-03-26T14:35:10.130452Z",
     "shell.execute_reply.started": "2022-03-26T14:35:09.779739Z"
    }
   },
   "outputs": [
    {
     "data": {
      "text/plain": [
       "date                0\n",
       "date_block_num      0\n",
       "shop_id             0\n",
       "item_id             0\n",
       "item_price          0\n",
       "item_cnt_day        0\n",
       "item_category_id    0\n",
       "dtype: int64"
      ]
     },
     "execution_count": 26,
     "metadata": {},
     "output_type": "execute_result"
    }
   ],
   "source": [
    "data.isnull().sum()"
   ]
  },
  {
   "cell_type": "code",
   "execution_count": 27,
   "metadata": {
    "execution": {
     "iopub.execute_input": "2022-03-26T14:35:10.132979Z",
     "iopub.status.busy": "2022-03-26T14:35:10.132731Z",
     "iopub.status.idle": "2022-03-26T14:35:11.847718Z",
     "shell.execute_reply": "2022-03-26T14:35:11.846898Z",
     "shell.execute_reply.started": "2022-03-26T14:35:10.132948Z"
    }
   },
   "outputs": [
    {
     "data": {
      "text/plain": [
       "6"
      ]
     },
     "execution_count": 27,
     "metadata": {},
     "output_type": "execute_result"
    }
   ],
   "source": [
    "data.duplicated().sum()"
   ]
  },
  {
   "cell_type": "code",
   "execution_count": 28,
   "metadata": {
    "execution": {
     "iopub.execute_input": "2022-03-26T14:35:11.849733Z",
     "iopub.status.busy": "2022-03-26T14:35:11.849264Z",
     "iopub.status.idle": "2022-03-26T14:35:13.685792Z",
     "shell.execute_reply": "2022-03-26T14:35:13.684591Z",
     "shell.execute_reply.started": "2022-03-26T14:35:11.849698Z"
    }
   },
   "outputs": [],
   "source": [
    "data = data.drop_duplicates()"
   ]
  },
  {
   "cell_type": "code",
   "execution_count": 29,
   "metadata": {
    "execution": {
     "iopub.execute_input": "2022-03-26T14:35:13.690674Z",
     "iopub.status.busy": "2022-03-26T14:35:13.690081Z",
     "iopub.status.idle": "2022-03-26T14:35:13.703635Z",
     "shell.execute_reply": "2022-03-26T14:35:13.702393Z",
     "shell.execute_reply.started": "2022-03-26T14:35:13.690632Z"
    }
   },
   "outputs": [
    {
     "name": "stdout",
     "output_type": "stream",
     "text": [
      "<class 'pandas.core.frame.DataFrame'>\n",
      "Int64Index: 2928486 entries, 0 to 2935847\n",
      "Data columns (total 7 columns):\n",
      " #   Column            Dtype  \n",
      "---  ------            -----  \n",
      " 0   date              object \n",
      " 1   date_block_num    int64  \n",
      " 2   shop_id           int64  \n",
      " 3   item_id           int64  \n",
      " 4   item_price        float64\n",
      " 5   item_cnt_day      float64\n",
      " 6   item_category_id  int64  \n",
      "dtypes: float64(2), int64(4), object(1)\n",
      "memory usage: 178.7+ MB\n"
     ]
    }
   ],
   "source": [
    "data.info()"
   ]
  },
  {
   "cell_type": "code",
   "execution_count": 30,
   "metadata": {
    "execution": {
     "iopub.execute_input": "2022-03-26T14:35:13.705764Z",
     "iopub.status.busy": "2022-03-26T14:35:13.705074Z",
     "iopub.status.idle": "2022-03-26T14:35:27.074019Z",
     "shell.execute_reply": "2022-03-26T14:35:27.072974Z",
     "shell.execute_reply.started": "2022-03-26T14:35:13.705716Z"
    }
   },
   "outputs": [],
   "source": [
    "data.shop_id = data.shop_id.astype('str')\n",
    "data.item_id = data.item_id.astype('str')\n",
    "data.item_category_id = data.item_category_id.astype('str')\n",
    "data.date_block_num = data.date_block_num.astype('str')"
   ]
  },
  {
   "cell_type": "code",
   "execution_count": 31,
   "metadata": {
    "execution": {
     "iopub.execute_input": "2022-03-26T14:35:27.092889Z",
     "iopub.status.busy": "2022-03-26T14:35:27.092593Z",
     "iopub.status.idle": "2022-03-26T14:35:27.102833Z",
     "shell.execute_reply": "2022-03-26T14:35:27.102050Z",
     "shell.execute_reply.started": "2022-03-26T14:35:27.092846Z"
    }
   },
   "outputs": [],
   "source": [
    "df = data"
   ]
  },
  {
   "cell_type": "code",
   "execution_count": 32,
   "metadata": {
    "execution": {
     "iopub.execute_input": "2022-03-26T14:35:27.105026Z",
     "iopub.status.busy": "2022-03-26T14:35:27.104267Z",
     "iopub.status.idle": "2022-03-26T14:35:27.116870Z",
     "shell.execute_reply": "2022-03-26T14:35:27.115521Z",
     "shell.execute_reply.started": "2022-03-26T14:35:27.104983Z"
    }
   },
   "outputs": [],
   "source": [
    "def date_sep(df): # just for kaggle Monthly target\n",
    "    \"\"\" grouping the sales in monthly basis \"\"\"\n",
    "    df = df.join(df['date'].str.split('.', expand=True).rename(columns={0:'D', 1:'M', 2:'Y'}))\n",
    "    df['monthly_date'] = df['M']+'-'+df['Y']\n",
    "    df = df.drop(['date','D','Y','M'],axis=1)\n",
    "    df.rename(columns = {'item_cnt_day':'item_cnt_month'}, inplace = True)\n",
    "    df = df.groupby(['item_id', 'shop_id', 'monthly_date'], as_index=False)['item_cnt_month'].sum()\n",
    "    df.monthly_date = df.monthly_date.astype('datetime64[M]')\n",
    "    return df"
   ]
  },
  {
   "cell_type": "code",
   "execution_count": 33,
   "metadata": {
    "execution": {
     "iopub.execute_input": "2022-03-26T14:35:27.118997Z",
     "iopub.status.busy": "2022-03-26T14:35:27.118150Z",
     "iopub.status.idle": "2022-03-26T14:35:44.770104Z",
     "shell.execute_reply": "2022-03-26T14:35:44.769089Z",
     "shell.execute_reply.started": "2022-03-26T14:35:27.118922Z"
    }
   },
   "outputs": [],
   "source": [
    "#df = date_sep(df)\n",
    "df.rename(columns = {'item_cnt_day':'item_cnt_month'}, inplace = True)\n",
    "df = df.groupby(['item_id', 'shop_id', 'date'], as_index=False)['item_cnt_month'].sum()\n",
    "df.date = df.date.astype('datetime64[D]')"
   ]
  },
  {
   "cell_type": "code",
   "execution_count": 34,
   "metadata": {
    "execution": {
     "iopub.execute_input": "2022-03-26T14:35:44.771857Z",
     "iopub.status.busy": "2022-03-26T14:35:44.771601Z",
     "iopub.status.idle": "2022-03-26T14:35:45.307698Z",
     "shell.execute_reply": "2022-03-26T14:35:45.306751Z",
     "shell.execute_reply.started": "2022-03-26T14:35:44.771824Z"
    }
   },
   "outputs": [],
   "source": [
    "df.set_index('date', inplace=True)"
   ]
  },
  {
   "cell_type": "code",
   "execution_count": 36,
   "metadata": {},
   "outputs": [
    {
     "data": {
      "text/plain": [
       "<AxesSubplot:xlabel='date'>"
      ]
     },
     "execution_count": 36,
     "metadata": {},
     "output_type": "execute_result"
    },
    {
     "data": {
      "image/png": "[encoded data removed]",
      "text/plain": [
       "<Figure size 1368x576 with 1 Axes>"
      ]
     },
     "metadata": {
      "needs_background": "light"
     },
     "output_type": "display_data"
    }
   ],
   "source": [
    "plt.figure(figsize = (19,8))\n",
    "df['item_cnt_month'].plot()"
   ]
  },
  {
   "cell_type": "code",
   "execution_count": 67,
   "metadata": {},
   "outputs": [],
   "source": [
    "def get_n_last_days(df, series_name, n_days):\n",
    "    \"\"\"\n",
    "    Extract last n_days of an monthly time series\n",
    "    \"\"\"\n",
    "    \n",
    "    return df[series_name][-(10000*n_days):] \n",
    "\n",
    "def plot_n_last_days(df, series_name, n_days):\n",
    "    \"\"\"\n",
    "    Plot last n_days of an monthly time series \n",
    "    \"\"\"\n",
    "    plt.figure(figsize = (10,5))   \n",
    "    plt.plot(get_n_last_days(df, series_name, n_days), 'o')\n",
    "    plt.title('{0} sales - {1} months'\n",
    "              .format(series_name, n_days))\n",
    "    plt.xlabel('Recorded months')\n",
    "    plt.ylabel('sales')\n",
    "    plt.grid(alpha=0.3)"
   ]
  },
  {
   "cell_type": "code",
   "execution_count": 68,
   "metadata": {},
   "outputs": [
    {
     "data": {
      "image/png": "[encoded data removed]",
      "text/plain": [
       "<Figure size 720x360 with 1 Axes>"
      ]
     },
     "metadata": {
      "needs_background": "light"
     },
     "output_type": "display_data"
    }
   ],
   "source": [
    "plot_n_last_days(df, 'item_cnt_month', 10)"
   ]
  },
  {
   "cell_type": "code",
   "execution_count": 39,
   "metadata": {},
   "outputs": [],
   "source": [
    "from keras.models import Sequential\n",
    "from keras.layers import Dense, SimpleRNN, LSTM, Activation, Dropout"
   ]
  },
  {
   "cell_type": "code",
   "execution_count": 79,
   "metadata": {},
   "outputs": [],
   "source": [
    "def get_keras_format_series(series):\n",
    "    \"\"\"\n",
    "    Convert a series to a numpy array of shape \n",
    "    [n_samples, time_steps, features]\n",
    "    \"\"\"\n",
    "    \n",
    "    series = np.array(series)\n",
    "    return series.reshape(series.shape[0], series.shape[1], 1)\n",
    "\n",
    "def get_train_test_data(df, series_name, series_days, input_months, \n",
    "                        test_months, sample_gap=300):\n",
    "    \"\"\"\n",
    "    Utility processing function that splits an monthly time series into \n",
    "    train and test with keras-friendly format, according to user-specified\n",
    "    choice of shape.    \n",
    "    \n",
    "    arguments\n",
    "    ---------\n",
    "    df (dataframe): dataframe with time series columns\n",
    "    series_name (string): column name in df\n",
    "    series_days (int): total days to extract\n",
    "    input_months (int): length of sequence input to network \n",
    "    test_months (int): length of held-out terminal sequence\n",
    "    sample_gap (int): step size between start of train sequences; default 5\n",
    "    \n",
    "    returns\n",
    "    ---------\n",
    "    tuple: train_X, test_X_init, train_y, test_y     \n",
    "    \"\"\"\n",
    "    \n",
    "    forecast_series = get_n_last_days(df, series_name, series_days).values # reducing our forecast series to last n days\n",
    "\n",
    "    train = forecast_series[:-test_months] # training data is remaining days until amount of test_hours\n",
    "    test = forecast_series[-test_months:] # test data is the remaining test_hours\n",
    "\n",
    "    train_X, train_y = [], []\n",
    "\n",
    "    # range 0 through # of train samples - input_hours by sample_gap. \n",
    "    # This is to create many samples with corresponding\n",
    "    for i in range(0, train.shape[0]-input_months, sample_gap): \n",
    "        train_X.append(train[i:i+input_months]) # each training sample is of length input hours\n",
    "        train_y.append(train[i+input_months]) # each y is just the next step after training sample\n",
    "\n",
    "    train_X = get_keras_format_series(train_X) # format our new training set to keras format\n",
    "    train_y = np.array(train_y) # make sure y is an array to work properly with keras\n",
    "    \n",
    "    # The set that we had held out for testing (must be same length as original train input)\n",
    "    test_X_init = test[:input_months] \n",
    "    test_y = test[input_months:] # test_y is remaining values from test set\n",
    "    \n",
    "    return train_X, test_X_init, train_y, test_y"
   ]
  },
  {
   "cell_type": "code",
   "execution_count": 80,
   "metadata": {},
   "outputs": [],
   "source": [
    "series_days = 1500000\n",
    "input_months = 500\n",
    "test_months = 1000\n",
    "\n",
    "train_X, test_X_init, train_y, test_y = \\\n",
    "    (get_train_test_data(df, 'item_cnt_month', series_days, \n",
    "                         input_months, test_months))"
   ]
  },
  {
   "cell_type": "code",
   "execution_count": 83,
   "metadata": {},
   "outputs": [
    {
     "name": "stdout",
     "output_type": "stream",
     "text": [
      "Training input shape: (9757, 500, 1)\n",
      "Training output shape: (9757,)\n",
      "Test input shape: (500,)\n",
      "Test output shape: (500,)\n"
     ]
    }
   ],
   "source": [
    "print('Training input shape: {}'.format(train_X.shape))\n",
    "print('Training output shape: {}'.format(train_y.shape))\n",
    "print('Test input shape: {}'.format(test_X_init.shape))\n",
    "print('Test output shape: {}'.format(test_y.shape))"
   ]
  },
  {
   "cell_type": "code",
   "execution_count": 84,
   "metadata": {},
   "outputs": [],
   "source": [
    "def fit_SimpleRNN(train_X, train_y, cell_units, epochs):\n",
    "    \"\"\"\n",
    "    Fit Simple RNN to data train_X, train_y \n",
    "    \n",
    "    arguments\n",
    "    ---------\n",
    "    train_X (array): input sequence samples for training \n",
    "    train_y (list): next step in sequence targets\n",
    "    cell_units (int): number of hidden units for RNN cells  \n",
    "    epochs (int): number of training epochs   \n",
    "    \"\"\"\n",
    "\n",
    "    # initialize model\n",
    "    model = Sequential() \n",
    "    \n",
    "    # construct an RNN layer with specified number of hidden units\n",
    "    # per cell and desired sequence input format \n",
    "    model.add(SimpleRNN(cell_units, input_shape=(train_X.shape[1],1)))\n",
    "    \n",
    "    # add an output layer to make final predictions \n",
    "    model.add(Dense(1))\n",
    "    \n",
    "    # define the loss function / optimization strategy, and fit\n",
    "    # the model with the desired number of passes over the data (epochs) \n",
    "    model.compile(loss='mean_squared_error', optimizer='adam')\n",
    "    model.fit(train_X, train_y, epochs=epochs, batch_size=64, verbose=0)\n",
    "    \n",
    "    return model"
   ]
  },
  {
   "cell_type": "code",
   "execution_count": 85,
   "metadata": {},
   "outputs": [],
   "source": [
    "model = fit_SimpleRNN(train_X, train_y, cell_units=10, epochs=10)"
   ]
  },
  {
   "cell_type": "code",
   "execution_count": 86,
   "metadata": {},
   "outputs": [],
   "source": [
    "def predict(X_init, n_steps, model):\n",
    "    \"\"\"\n",
    "    Given an input series matching the model's expected format,\n",
    "    generates model's predictions for next n_steps in the series      \n",
    "    \"\"\"\n",
    "    \n",
    "    X_init = X_init.copy().reshape(1,-1,1)\n",
    "    preds = []\n",
    "    \n",
    "    # iteratively take current input sequence, generate next step pred,\n",
    "    # and shift input sequence forward by a step (to end with latest pred).\n",
    "    # collect preds as we go.\n",
    "    for _ in range(n_steps):\n",
    "        pred = model.predict(X_init)\n",
    "        preds.append(pred)\n",
    "        X_init[:,:-1,:] = X_init[:,1:,:] # replace first 11 values with 2nd through 12th\n",
    "        X_init[:,-1,:] = pred # replace 12th value with prediction\n",
    "    \n",
    "    preds = np.array(preds).reshape(-1,1)\n",
    "    \n",
    "    return preds\n",
    "\n",
    "def predict_and_plot(X_init, y, model, title):\n",
    "    \"\"\"\n",
    "    Given an input series matching the model's expected format,\n",
    "    generates model's predictions for next n_steps in the series,\n",
    "    and plots these predictions against the ground truth for those steps \n",
    "    \n",
    "    arguments\n",
    "    ---------\n",
    "    X_init (array): initial sequence, must match model's input shape\n",
    "    y (array): true sequence values to predict, follow X_init\n",
    "    model (keras.models.Sequential): trained neural network\n",
    "    title (string): plot title   \n",
    "    \"\"\"\n",
    "    \n",
    "    y_preds = predict(test_X_init, n_steps=len(y), model=model) # predict through length of y\n",
    "    # Below ranges are to set x-axes\n",
    "    start_range = range(1, test_X_init.shape[0]+1) #starting at one through to length of test_X_init to plot X_init\n",
    "    predict_range = range(test_X_init.shape[0], test_months)  #predict range is going to be from end of X_init to length of test_hours\n",
    "    \n",
    "    #using our ranges we plot X_init\n",
    "    plt.plot(start_range, test_X_init)\n",
    "    #and test and actual preds\n",
    "    plt.plot(predict_range, test_y, color='orange')\n",
    "    plt.plot(predict_range, y_preds, color='teal', linestyle='--')\n",
    "    \n",
    "    plt.title(title)\n",
    "    plt.legend(['Initial Series','Target Series','Predictions'])"
   ]
  },
  {
   "cell_type": "code",
   "execution_count": 87,
   "metadata": {},
   "outputs": [
    {
     "data": {
      "image/png": "[encoded data removed]",
      "text/plain": [
       "<Figure size 432x288 with 1 Axes>"
      ]
     },
     "metadata": {
      "needs_background": "light"
     },
     "output_type": "display_data"
    }
   ],
   "source": [
    "predict_and_plot(test_X_init, test_y, model,\n",
    "                 'Sales Series: Test Data and Simple RNN Predictions')"
   ]
  },
  {
   "cell_type": "code",
   "execution_count": 88,
   "metadata": {},
   "outputs": [],
   "source": [
    "def fit_LSTM(train_X, train_y, cell_units, epochs):\n",
    "    \"\"\"\n",
    "    Fit LSTM to data train_X, train_y \n",
    "    \n",
    "    arguments\n",
    "    ---------\n",
    "    train_X (array): input sequence samples for training \n",
    "    train_y (list): next step in sequence targets\n",
    "    cell_units (int): number of hidden units for LSTM cells  \n",
    "    epochs (int): number of training epochs   \n",
    "    \"\"\"\n",
    "    \n",
    "    # initialize model\n",
    "    model = Sequential() \n",
    "    \n",
    "    # construct a LSTM layer with specified number of hidden units\n",
    "    # per cell and desired sequence input format \n",
    "    model.add(LSTM(cell_units, input_shape=(train_X.shape[1],1))) #,return_sequences= True))\n",
    "    #model.add(LSTM(cell_units_l2, input_shape=(train_X.shape[1],1)))\n",
    "    \n",
    "    # add an output layer to make final predictions \n",
    "    model.add(Dense(1))\n",
    "    \n",
    "    # define the loss function / optimization strategy, and fit\n",
    "    # the model with the desired number of passes over the data (epochs) \n",
    "    model.compile(loss='mean_squared_error', optimizer='adam')\n",
    "    model.fit(train_X, train_y, epochs=epochs, batch_size=64, verbose=0)\n",
    "    \n",
    "    return model"
   ]
  },
  {
   "cell_type": "code",
   "execution_count": 90,
   "metadata": {},
   "outputs": [
    {
     "data": {
      "image/png": "[encoded data removed]",
      "text/plain": [
       "<Figure size 432x288 with 1 Axes>"
      ]
     },
     "metadata": {
      "needs_background": "light"
     },
     "output_type": "display_data"
    }
   ],
   "source": [
    "series_days = 1500000\n",
    "input_months = 500\n",
    "test_months = 1000\n",
    "\n",
    "train_X, test_X_init, train_y, test_y = \\\n",
    "    (get_train_test_data(df, 'item_cnt_month', series_days, \n",
    "                         input_months, test_months))\n",
    "\n",
    "model = fit_LSTM(train_X, train_y, cell_units=70, epochs=10) \n",
    "\n",
    "predict_and_plot(test_X_init, test_y, model, \n",
    "                 'item_cnt_month Series: Test Data and LSTM Predictions')"
   ]
  },
  {
   "cell_type": "code",
   "execution_count": null,
   "metadata": {},
   "outputs": [],
   "source": []
  }
 ],
 "metadata": {
  "kernelspec": {
   "display_name": "Python 3",
   "language": "python",
   "name": "python3"
  },
  "language_info": {
   "codemirror_mode": {
    "name": "ipython",
    "version": 3
   },
   "file_extension": ".py",
   "mimetype": "text/x-python",
   "name": "python",
   "nbconvert_exporter": "python",
   "pygments_lexer": "ipython3",
   "version": "3.8.8"
  }
 },
 "nbformat": 4,
 "nbformat_minor": 4
}
